{
 "cells": [
  {
   "cell_type": "code",
   "execution_count": null,
   "id": "65155909-b2b1-40b0-800e-14d6e57ba8ac",
   "metadata": {},
   "outputs": [],
   "source": []
  },
  {
   "cell_type": "code",
   "execution_count": 3,
   "id": "cca3177c-e924-4bc9-86c8-016f7ef2394e",
   "metadata": {},
   "outputs": [],
   "source": [
    "import pandas as pd\n",
    "\n",
    "df = pd.read_csv(\"NETFLIX/netflix_large_dataset.csv\")\n"
   ]
  },
  {
   "cell_type": "code",
   "execution_count": 15,
   "id": "b6ab241d-2529-47f9-a284-6ce22b731b6d",
   "metadata": {},
   "outputs": [
    {
     "name": "stdout",
     "output_type": "stream",
     "text": [
      "show_id          0\n",
      "type             0\n",
      "title            0\n",
      "director        41\n",
      "cast            41\n",
      "country         52\n",
      "date_added      26\n",
      "release_year     0\n",
      "rating          55\n",
      "duration         0\n",
      "listed_in        0\n",
      "description      0\n",
      "dtype: int64\n"
     ]
    }
   ],
   "source": [
    "missing_summary = df.isnull().sum()\n",
    "print(missing_summary)"
   ]
  },
  {
   "cell_type": "code",
   "execution_count": 13,
   "id": "0e770a2f-0c7e-4217-a207-88bb5f09c775",
   "metadata": {},
   "outputs": [],
   "source": [
    "df = df.drop_duplicates(subset=[\"director\",\"director\",\"cast\",\"country\",\"date_added\",\"rating\"])\n"
   ]
  },
  {
   "cell_type": "code",
   "execution_count": 21,
   "id": "004be6e4-d236-486a-a42c-e6bbd80293dd",
   "metadata": {},
   "outputs": [],
   "source": [
    "\n",
    "df['duration'] = df['duration'].str.replace(\" minutes\", \" min\")\n"
   ]
  },
  {
   "cell_type": "code",
   "execution_count": 17,
   "id": "92608756-34bc-4f63-839f-f524c4fdb913",
   "metadata": {},
   "outputs": [],
   "source": [
    "def convert_duration(val):\n",
    "    if pd.isnull(val):\n",
    "        return None\n",
    "    if 'Season' in val:\n",
    "        return int(val.split()[0]) * 12  # Assume 1 season ≈ 12 episodes\n",
    "    elif 'min' in val:\n",
    "        return int(val.split()[0])\n",
    "    return None\n",
    "\n",
    "df['duration_minutes'] = df['duration'].apply(convert_duration)\n"
   ]
  },
  {
   "cell_type": "code",
   "execution_count": 27,
   "id": "a6aa4a82-cf25-4a98-ba58-0357318c8ef6",
   "metadata": {},
   "outputs": [],
   "source": [
    "df['is_movie'] = df['type'].apply(lambda x: 1 if x == \"Movie\" else 0)\n",
    "\n",
    "\n"
   ]
  },
  {
   "cell_type": "code",
   "execution_count": 29,
   "id": "802d9f8f-0b4f-4dfa-b1d0-b8c7a44f4e39",
   "metadata": {},
   "outputs": [],
   "source": [
    "df['cast_count'] = df['cast'].apply(lambda x: len(str(x).split(',')) if pd.notnull(x) else 0)\n"
   ]
  },
  {
   "cell_type": "code",
   "execution_count": 33,
   "id": "ca714227-e1a8-468c-a582-179d461fe46f",
   "metadata": {},
   "outputs": [],
   "source": [
    "df.to_csv(\"netflix_processed_data.csv\", index=False)\n"
   ]
  },
  {
   "cell_type": "code",
   "execution_count": null,
   "id": "a3fe24fb-089a-4a6e-a4bf-ab504feec4d1",
   "metadata": {},
   "outputs": [],
   "source": []
  },
  {
   "cell_type": "code",
   "execution_count": null,
   "id": "3f617e5e-00c2-4c1e-8726-ead8b8a822b0",
   "metadata": {},
   "outputs": [],
   "source": []
  }
 ],
 "metadata": {
  "kernelspec": {
   "display_name": "Python 3 (ipykernel)",
   "language": "python",
   "name": "python3"
  },
  "language_info": {
   "codemirror_mode": {
    "name": "ipython",
    "version": 3
   },
   "file_extension": ".py",
   "mimetype": "text/x-python",
   "name": "python",
   "nbconvert_exporter": "python",
   "pygments_lexer": "ipython3",
   "version": "3.12.7"
  }
 },
 "nbformat": 4,
 "nbformat_minor": 5
}
